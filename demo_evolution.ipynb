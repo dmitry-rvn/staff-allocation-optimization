{
 "cells": [
  {
   "cell_type": "code",
   "execution_count": 1,
   "id": "5bd8b69f-1299-4f2f-9068-ceb8d798bd81",
   "metadata": {},
   "outputs": [],
   "source": [
    "from datetime import datetime\n",
    "\n",
    "import pandas as pd\n",
    "import numpy as np\n",
    "from scipy.optimize import Bounds, LinearConstraint, differential_evolution"
   ]
  },
  {
   "cell_type": "markdown",
   "id": "ba649067-ee2a-40bc-b756-a29ec4a9df18",
   "metadata": {},
   "source": [
    "#### Данные о комнатах и подразделениях:"
   ]
  },
  {
   "cell_type": "code",
   "execution_count": 2,
   "id": "4d84803c-5645-479b-8cca-91da13f5324e",
   "metadata": {},
   "outputs": [
    {
     "data": {
      "text/html": [
       "<div>\n",
       "<style scoped>\n",
       "    .dataframe tbody tr th:only-of-type {\n",
       "        vertical-align: middle;\n",
       "    }\n",
       "\n",
       "    .dataframe tbody tr th {\n",
       "        vertical-align: top;\n",
       "    }\n",
       "\n",
       "    .dataframe thead th {\n",
       "        text-align: right;\n",
       "    }\n",
       "</style>\n",
       "<table border=\"1\" class=\"dataframe\">\n",
       "  <thead>\n",
       "    <tr style=\"text-align: right;\">\n",
       "      <th></th>\n",
       "      <th>capacity</th>\n",
       "    </tr>\n",
       "    <tr>\n",
       "      <th>room</th>\n",
       "      <th></th>\n",
       "    </tr>\n",
       "  </thead>\n",
       "  <tbody>\n",
       "    <tr>\n",
       "      <th>1</th>\n",
       "      <td>6</td>\n",
       "    </tr>\n",
       "    <tr>\n",
       "      <th>2</th>\n",
       "      <td>3</td>\n",
       "    </tr>\n",
       "    <tr>\n",
       "      <th>3</th>\n",
       "      <td>7</td>\n",
       "    </tr>\n",
       "  </tbody>\n",
       "</table>\n",
       "</div>"
      ],
      "text/plain": [
       "      capacity\n",
       "room          \n",
       "1            6\n",
       "2            3\n",
       "3            7"
      ]
     },
     "execution_count": 2,
     "metadata": {},
     "output_type": "execute_result"
    }
   ],
   "source": [
    "rooms = pd.read_csv('data/rooms.csv', index_col='room')\n",
    "rooms"
   ]
  },
  {
   "cell_type": "code",
   "execution_count": 3,
   "id": "91b7e0f4-bdca-49bb-a258-ee225f796d15",
   "metadata": {},
   "outputs": [
    {
     "data": {
      "text/html": [
       "<div>\n",
       "<style scoped>\n",
       "    .dataframe tbody tr th:only-of-type {\n",
       "        vertical-align: middle;\n",
       "    }\n",
       "\n",
       "    .dataframe tbody tr th {\n",
       "        vertical-align: top;\n",
       "    }\n",
       "\n",
       "    .dataframe thead th {\n",
       "        text-align: right;\n",
       "    }\n",
       "</style>\n",
       "<table border=\"1\" class=\"dataframe\">\n",
       "  <thead>\n",
       "    <tr style=\"text-align: right;\">\n",
       "      <th></th>\n",
       "      <th>size</th>\n",
       "    </tr>\n",
       "    <tr>\n",
       "      <th>department</th>\n",
       "      <th></th>\n",
       "    </tr>\n",
       "  </thead>\n",
       "  <tbody>\n",
       "    <tr>\n",
       "      <th>A</th>\n",
       "      <td>4</td>\n",
       "    </tr>\n",
       "    <tr>\n",
       "      <th>B</th>\n",
       "      <td>6</td>\n",
       "    </tr>\n",
       "    <tr>\n",
       "      <th>C</th>\n",
       "      <td>3</td>\n",
       "    </tr>\n",
       "    <tr>\n",
       "      <th>D</th>\n",
       "      <td>2</td>\n",
       "    </tr>\n",
       "  </tbody>\n",
       "</table>\n",
       "</div>"
      ],
      "text/plain": [
       "            size\n",
       "department      \n",
       "A              4\n",
       "B              6\n",
       "C              3\n",
       "D              2"
      ]
     },
     "execution_count": 3,
     "metadata": {},
     "output_type": "execute_result"
    }
   ],
   "source": [
    "staff = pd.read_csv('data/staff.csv', index_col='department')\n",
    "staff"
   ]
  },
  {
   "cell_type": "markdown",
   "id": "aa86d123-d178-45e3-88fd-8855dda6025d",
   "metadata": {
    "tags": []
   },
   "source": [
    "##### Функции цели/ограничений для датафреймов:"
   ]
  },
  {
   "cell_type": "code",
   "execution_count": 4,
   "id": "0dbcbf51-bc9b-452b-845e-1d49b1f344b1",
   "metadata": {},
   "outputs": [],
   "source": [
    "def explode_distr(distr: pd.DataFrame, rooms: pd.DataFrame, staff: pd.DataFrame) -> pd.DataFrame:\n",
    "    df = rooms.reset_index().merge(staff.reset_index(), how='cross')\n",
    "    df = df.merge(distr, how='left', on=['department', 'room'])\n",
    "    df = df.fillna(0)\n",
    "    df['count'] = df['count'].astype(int)\n",
    "    return df\n",
    "    \n",
    "\n",
    "def score_for_df(distr: pd.DataFrame) -> float:\n",
    "    return (distr.groupby('department')['room'].nunique()).mean()\n",
    "\n",
    "\n",
    "def constraint_capacity_for_df(distr: pd.DataFrame, rooms: pd.DataFrame) -> bool:\n",
    "    actual = distr.groupby('room')['count'].sum()\n",
    "    merged = rooms.merge(actual, left_index=True, right_index=True)\n",
    "    return all(merged['capacity'] >= merged['count'])\n",
    "\n",
    "\n",
    "def constraint_department_size_for_df(distr: pd.DataFrame, staff: pd.DataFrame) -> bool:\n",
    "    actual = distr.groupby('department')['count'].sum()\n",
    "    merged = staff.merge(actual, left_index=True, right_index=True)\n",
    "    return all(merged['size'] == merged['count'])"
   ]
  },
  {
   "cell_type": "markdown",
   "id": "678b4a51-9874-4dde-a224-d5f974b7c527",
   "metadata": {
    "tags": []
   },
   "source": [
    "#### \"Исходное\" распределение работников:"
   ]
  },
  {
   "cell_type": "code",
   "execution_count": 5,
   "id": "2db856e3-2337-4112-909b-ac6070543d13",
   "metadata": {},
   "outputs": [
    {
     "name": "stdout",
     "output_type": "stream",
     "text": [
      "score: 1.5, constraint_capacity: True, constraint_department_size: True\n"
     ]
    },
    {
     "data": {
      "text/html": [
       "<div>\n",
       "<style scoped>\n",
       "    .dataframe tbody tr th:only-of-type {\n",
       "        vertical-align: middle;\n",
       "    }\n",
       "\n",
       "    .dataframe tbody tr th {\n",
       "        vertical-align: top;\n",
       "    }\n",
       "\n",
       "    .dataframe thead th {\n",
       "        text-align: right;\n",
       "    }\n",
       "</style>\n",
       "<table border=\"1\" class=\"dataframe\">\n",
       "  <thead>\n",
       "    <tr style=\"text-align: right;\">\n",
       "      <th></th>\n",
       "      <th>room</th>\n",
       "      <th>department</th>\n",
       "      <th>count</th>\n",
       "    </tr>\n",
       "  </thead>\n",
       "  <tbody>\n",
       "    <tr>\n",
       "      <th>0</th>\n",
       "      <td>1</td>\n",
       "      <td>A</td>\n",
       "      <td>4</td>\n",
       "    </tr>\n",
       "    <tr>\n",
       "      <th>1</th>\n",
       "      <td>1</td>\n",
       "      <td>B</td>\n",
       "      <td>2</td>\n",
       "    </tr>\n",
       "    <tr>\n",
       "      <th>2</th>\n",
       "      <td>2</td>\n",
       "      <td>B</td>\n",
       "      <td>3</td>\n",
       "    </tr>\n",
       "    <tr>\n",
       "      <th>3</th>\n",
       "      <td>3</td>\n",
       "      <td>C</td>\n",
       "      <td>3</td>\n",
       "    </tr>\n",
       "    <tr>\n",
       "      <th>4</th>\n",
       "      <td>3</td>\n",
       "      <td>D</td>\n",
       "      <td>2</td>\n",
       "    </tr>\n",
       "    <tr>\n",
       "      <th>5</th>\n",
       "      <td>3</td>\n",
       "      <td>B</td>\n",
       "      <td>1</td>\n",
       "    </tr>\n",
       "  </tbody>\n",
       "</table>\n",
       "</div>"
      ],
      "text/plain": [
       "   room department  count\n",
       "0     1          A      4\n",
       "1     1          B      2\n",
       "2     2          B      3\n",
       "3     3          C      3\n",
       "4     3          D      2\n",
       "5     3          B      1"
      ]
     },
     "execution_count": 5,
     "metadata": {},
     "output_type": "execute_result"
    }
   ],
   "source": [
    "initial_distribution = pd.read_csv('data/initial_distribution.csv')\n",
    "\n",
    "print(f\"score: {score_for_df(initial_distribution)}, constraint_capacity: {constraint_capacity_for_df(initial_distribution, rooms)}, constraint_department_size: {constraint_department_size_for_df(initial_distribution, staff)}\")\n",
    "initial_distribution"
   ]
  },
  {
   "cell_type": "markdown",
   "id": "58e4d2f0-8544-47a1-a2ec-361b411c5194",
   "metadata": {},
   "source": [
    "#### Вариант \"идеального\" распределения работников:"
   ]
  },
  {
   "cell_type": "code",
   "execution_count": 6,
   "id": "6b5e9d15-b99e-45d4-9a25-073f6335465e",
   "metadata": {},
   "outputs": [
    {
     "name": "stdout",
     "output_type": "stream",
     "text": [
      "score: 1.0, constraint_capacity: True, constraint_department_size: True\n"
     ]
    },
    {
     "data": {
      "text/html": [
       "<div>\n",
       "<style scoped>\n",
       "    .dataframe tbody tr th:only-of-type {\n",
       "        vertical-align: middle;\n",
       "    }\n",
       "\n",
       "    .dataframe tbody tr th {\n",
       "        vertical-align: top;\n",
       "    }\n",
       "\n",
       "    .dataframe thead th {\n",
       "        text-align: right;\n",
       "    }\n",
       "</style>\n",
       "<table border=\"1\" class=\"dataframe\">\n",
       "  <thead>\n",
       "    <tr style=\"text-align: right;\">\n",
       "      <th></th>\n",
       "      <th>room</th>\n",
       "      <th>count</th>\n",
       "      <th>department</th>\n",
       "    </tr>\n",
       "  </thead>\n",
       "  <tbody>\n",
       "    <tr>\n",
       "      <th>0</th>\n",
       "      <td>1</td>\n",
       "      <td>4</td>\n",
       "      <td>A</td>\n",
       "    </tr>\n",
       "    <tr>\n",
       "      <th>1</th>\n",
       "      <td>1</td>\n",
       "      <td>2</td>\n",
       "      <td>D</td>\n",
       "    </tr>\n",
       "    <tr>\n",
       "      <th>2</th>\n",
       "      <td>2</td>\n",
       "      <td>3</td>\n",
       "      <td>C</td>\n",
       "    </tr>\n",
       "    <tr>\n",
       "      <th>3</th>\n",
       "      <td>3</td>\n",
       "      <td>6</td>\n",
       "      <td>B</td>\n",
       "    </tr>\n",
       "  </tbody>\n",
       "</table>\n",
       "</div>"
      ],
      "text/plain": [
       "   room  count department\n",
       "0     1      4          A\n",
       "1     1      2          D\n",
       "2     2      3          C\n",
       "3     3      6          B"
      ]
     },
     "execution_count": 6,
     "metadata": {},
     "output_type": "execute_result"
    }
   ],
   "source": [
    "hypothesis = pd.read_csv('data/hypothesis.csv')\n",
    "\n",
    "print(f\"score: {score_for_df(hypothesis)}, constraint_capacity: {constraint_capacity_for_df(hypothesis, rooms)}, constraint_department_size: {constraint_department_size_for_df(hypothesis, staff)}\")\n",
    "hypothesis"
   ]
  },
  {
   "cell_type": "markdown",
   "id": "24814b28-5da7-4d86-8305-e0264eceb497",
   "metadata": {},
   "source": [
    "#### Подготовка к оптимизации"
   ]
  },
  {
   "cell_type": "code",
   "execution_count": 7,
   "id": "79194e27-af09-4d76-8ff6-56cdf8ae6938",
   "metadata": {},
   "outputs": [
    {
     "data": {
      "text/html": [
       "<div>\n",
       "<style scoped>\n",
       "    .dataframe tbody tr th:only-of-type {\n",
       "        vertical-align: middle;\n",
       "    }\n",
       "\n",
       "    .dataframe tbody tr th {\n",
       "        vertical-align: top;\n",
       "    }\n",
       "\n",
       "    .dataframe thead th {\n",
       "        text-align: right;\n",
       "    }\n",
       "</style>\n",
       "<table border=\"1\" class=\"dataframe\">\n",
       "  <thead>\n",
       "    <tr style=\"text-align: right;\">\n",
       "      <th></th>\n",
       "      <th>room</th>\n",
       "      <th>capacity</th>\n",
       "      <th>department</th>\n",
       "      <th>size</th>\n",
       "      <th>count</th>\n",
       "    </tr>\n",
       "  </thead>\n",
       "  <tbody>\n",
       "    <tr>\n",
       "      <th>0</th>\n",
       "      <td>1</td>\n",
       "      <td>6</td>\n",
       "      <td>A</td>\n",
       "      <td>4</td>\n",
       "      <td>4</td>\n",
       "    </tr>\n",
       "    <tr>\n",
       "      <th>1</th>\n",
       "      <td>1</td>\n",
       "      <td>6</td>\n",
       "      <td>B</td>\n",
       "      <td>6</td>\n",
       "      <td>2</td>\n",
       "    </tr>\n",
       "    <tr>\n",
       "      <th>2</th>\n",
       "      <td>1</td>\n",
       "      <td>6</td>\n",
       "      <td>C</td>\n",
       "      <td>3</td>\n",
       "      <td>0</td>\n",
       "    </tr>\n",
       "    <tr>\n",
       "      <th>3</th>\n",
       "      <td>1</td>\n",
       "      <td>6</td>\n",
       "      <td>D</td>\n",
       "      <td>2</td>\n",
       "      <td>0</td>\n",
       "    </tr>\n",
       "    <tr>\n",
       "      <th>4</th>\n",
       "      <td>2</td>\n",
       "      <td>3</td>\n",
       "      <td>A</td>\n",
       "      <td>4</td>\n",
       "      <td>0</td>\n",
       "    </tr>\n",
       "    <tr>\n",
       "      <th>5</th>\n",
       "      <td>2</td>\n",
       "      <td>3</td>\n",
       "      <td>B</td>\n",
       "      <td>6</td>\n",
       "      <td>3</td>\n",
       "    </tr>\n",
       "    <tr>\n",
       "      <th>6</th>\n",
       "      <td>2</td>\n",
       "      <td>3</td>\n",
       "      <td>C</td>\n",
       "      <td>3</td>\n",
       "      <td>0</td>\n",
       "    </tr>\n",
       "    <tr>\n",
       "      <th>7</th>\n",
       "      <td>2</td>\n",
       "      <td>3</td>\n",
       "      <td>D</td>\n",
       "      <td>2</td>\n",
       "      <td>0</td>\n",
       "    </tr>\n",
       "    <tr>\n",
       "      <th>8</th>\n",
       "      <td>3</td>\n",
       "      <td>7</td>\n",
       "      <td>A</td>\n",
       "      <td>4</td>\n",
       "      <td>0</td>\n",
       "    </tr>\n",
       "    <tr>\n",
       "      <th>9</th>\n",
       "      <td>3</td>\n",
       "      <td>7</td>\n",
       "      <td>B</td>\n",
       "      <td>6</td>\n",
       "      <td>1</td>\n",
       "    </tr>\n",
       "    <tr>\n",
       "      <th>10</th>\n",
       "      <td>3</td>\n",
       "      <td>7</td>\n",
       "      <td>C</td>\n",
       "      <td>3</td>\n",
       "      <td>3</td>\n",
       "    </tr>\n",
       "    <tr>\n",
       "      <th>11</th>\n",
       "      <td>3</td>\n",
       "      <td>7</td>\n",
       "      <td>D</td>\n",
       "      <td>2</td>\n",
       "      <td>2</td>\n",
       "    </tr>\n",
       "  </tbody>\n",
       "</table>\n",
       "</div>"
      ],
      "text/plain": [
       "    room  capacity department  size  count\n",
       "0      1         6          A     4      4\n",
       "1      1         6          B     6      2\n",
       "2      1         6          C     3      0\n",
       "3      1         6          D     2      0\n",
       "4      2         3          A     4      0\n",
       "5      2         3          B     6      3\n",
       "6      2         3          C     3      0\n",
       "7      2         3          D     2      0\n",
       "8      3         7          A     4      0\n",
       "9      3         7          B     6      1\n",
       "10     3         7          C     3      3\n",
       "11     3         7          D     2      2"
      ]
     },
     "execution_count": 7,
     "metadata": {},
     "output_type": "execute_result"
    }
   ],
   "source": [
    "initial_distribution_exploded = explode_distr(initial_distribution, rooms, staff)\n",
    "initial_distribution_exploded"
   ]
  },
  {
   "cell_type": "markdown",
   "id": "516fa43a-18e0-46ba-9e96-82a3d5e66afd",
   "metadata": {
    "tags": []
   },
   "source": [
    "#### Постановка ограничений"
   ]
  },
  {
   "cell_type": "markdown",
   "id": "7897832e-45e9-49f0-ba76-149361aa0c3f",
   "metadata": {},
   "source": [
    "##### Границы переменных (`lb <= x <= ub`):"
   ]
  },
  {
   "cell_type": "code",
   "execution_count": 8,
   "id": "30dec0bd-d93d-4202-bb30-6c7300f36cf8",
   "metadata": {},
   "outputs": [
    {
     "data": {
      "text/plain": [
       "Bounds(array([0, 0, 0, 0, 0, 0, 0, 0, 0, 0, 0, 0]), array([4, 6, 3, 2, 3, 3, 3, 2, 4, 6, 3, 2]))"
      ]
     },
     "execution_count": 8,
     "metadata": {},
     "output_type": "execute_result"
    }
   ],
   "source": [
    "bounds = Bounds(lb=0, ub=[min(row['capacity'], row['size']) for _, row in initial_distribution_exploded.iterrows()])\n",
    "bounds"
   ]
  },
  {
   "cell_type": "markdown",
   "id": "081ba32b-1e9b-4a10-911d-becf29896a78",
   "metadata": {},
   "source": [
    "##### Ограничение на заполнение комнат (сумма числа работников в комнате 1 не должна превышать вместимость комнаты 1 и т.д.):"
   ]
  },
  {
   "cell_type": "code",
   "execution_count": 9,
   "id": "bfbbc1f8-5163-4e8f-8d41-767b49b9f90c",
   "metadata": {},
   "outputs": [
    {
     "data": {
      "text/plain": [
       "(array([[1., 1., 1., 1., 0., 0., 0., 0., 0., 0., 0., 0.],\n",
       "        [0., 0., 0., 0., 1., 1., 1., 1., 0., 0., 0., 0.],\n",
       "        [0., 0., 0., 0., 0., 0., 0., 0., 1., 1., 1., 1.]]),\n",
       " array([0., 0., 0.]),\n",
       " array([6., 3., 7.]),\n",
       " array([6., 3., 6.]))"
      ]
     },
     "execution_count": 9,
     "metadata": {},
     "output_type": "execute_result"
    }
   ],
   "source": [
    "constraint_capacity = LinearConstraint(\n",
    "    A=pd.concat([(initial_distribution_exploded['room'] == room).astype(int) for room in rooms.index], axis=1).values.T,\n",
    "    lb=0,\n",
    "    ub=rooms.values.reshape(-1)\n",
    ")\n",
    "\n",
    "constraint_capacity.A, constraint_capacity.lb, constraint_capacity.ub, constraint_capacity.A @ initial_distribution_exploded['count'].values"
   ]
  },
  {
   "cell_type": "markdown",
   "id": "ad7a7505-7b30-4c22-beb8-f5ea7329c01f",
   "metadata": {},
   "source": [
    "##### Ограничение на равенство сумм числа работников размеру подразделений:"
   ]
  },
  {
   "cell_type": "code",
   "execution_count": 10,
   "id": "ec2ab61c-5554-4ccf-9620-c03e9efd6a7f",
   "metadata": {},
   "outputs": [
    {
     "data": {
      "text/plain": [
       "(array([[1., 0., 0., 0., 1., 0., 0., 0., 1., 0., 0., 0.],\n",
       "        [0., 1., 0., 0., 0., 1., 0., 0., 0., 1., 0., 0.],\n",
       "        [0., 0., 1., 0., 0., 0., 1., 0., 0., 0., 1., 0.],\n",
       "        [0., 0., 0., 1., 0., 0., 0., 1., 0., 0., 0., 1.]]),\n",
       " array([4., 6., 3., 2.]),\n",
       " array([4., 6., 3., 2.]),\n",
       " array([4., 6., 3., 2.]))"
      ]
     },
     "execution_count": 10,
     "metadata": {},
     "output_type": "execute_result"
    }
   ],
   "source": [
    "constraint_staff = LinearConstraint(\n",
    "    A=pd.concat([(initial_distribution_exploded['department'] == dep).astype(int) for dep in staff.index], axis=1).values.T,\n",
    "    lb=staff.values.reshape(-1),\n",
    "    ub=staff.values.reshape(-1)\n",
    ")\n",
    "\n",
    "constraint_staff.A, constraint_staff.lb, constraint_staff.ub, constraint_staff.A @ initial_distribution_exploded['count'].values"
   ]
  },
  {
   "cell_type": "markdown",
   "id": "286d9933-abab-41ee-bc9c-61f749cb5e06",
   "metadata": {},
   "source": [
    "#### Постановка целевой функции и запуск"
   ]
  },
  {
   "cell_type": "markdown",
   "id": "89020bd5-ca71-49c6-9173-55ef8027b418",
   "metadata": {},
   "source": [
    "Целевая функция (минимизируем количество кабинетов на одно подразделение в среднем):"
   ]
  },
  {
   "cell_type": "code",
   "execution_count": 11,
   "id": "1466308d-73c2-4c3e-b97e-08202ab9add3",
   "metadata": {},
   "outputs": [
    {
     "data": {
      "text/plain": [
       "(4, [[0, 4, 8], [1, 5, 9], [2, 6, 10], [3, 7, 11]])"
      ]
     },
     "execution_count": 11,
     "metadata": {},
     "output_type": "execute_result"
    }
   ],
   "source": [
    "DEPARTMENT_COUNT = len(staff)\n",
    "DEPARTMENT_INDICES = [list(initial_distribution_exploded[initial_distribution_exploded['department'] == dep].index) for dep in staff.index]\n",
    "\n",
    "DEPARTMENT_COUNT, DEPARTMENT_INDICES"
   ]
  },
  {
   "cell_type": "code",
   "execution_count": 12,
   "id": "b40d534e-76bd-4c53-801b-002f8c38e602",
   "metadata": {},
   "outputs": [
    {
     "data": {
      "text/plain": [
       "1.5"
      ]
     },
     "execution_count": 12,
     "metadata": {},
     "output_type": "execute_result"
    }
   ],
   "source": [
    "def objective(x: np.ndarray) -> float:\n",
    "    return sum((x[idx] != 0).sum() for idx in DEPARTMENT_INDICES) / DEPARTMENT_COUNT\n",
    "\n",
    "\n",
    "objective(initial_distribution_exploded['count'].values)"
   ]
  },
  {
   "cell_type": "markdown",
   "id": "b7dce37b-3a87-42cf-b8ed-8a045fc44470",
   "metadata": {},
   "source": [
    "Запуск оптимизатора (https://docs.scipy.org/doc/scipy/reference/generated/scipy.optimize.differential_evolution.html).<br>\n",
    "Стратегия `rand1bin` - единственная, которая смогла дать результат `1.0` (ни одно подразделение не разделено на несколько кабинетов)."
   ]
  },
  {
   "cell_type": "code",
   "execution_count": 13,
   "id": "e684d39a-32dd-4346-ad00-c6ff59c461b9",
   "metadata": {},
   "outputs": [
    {
     "name": "stdout",
     "output_type": "stream",
     "text": [
      "Time elapsed: 0:04:59.935062\n"
     ]
    }
   ],
   "source": [
    "t0 = datetime.now()\n",
    "res = differential_evolution(objective,\n",
    "                             strategy='rand1bin',\n",
    "                             constraints=[constraint_capacity, constraint_staff], \n",
    "                             bounds=bounds, \n",
    "                             x0=initial_distribution_exploded['count'].values,\n",
    "                             maxiter=20_000,\n",
    "                             integrality=True,\n",
    "                             seed=1,\n",
    "                             )\n",
    "print(f'Time elapsed: {datetime.now() - t0}')"
   ]
  },
  {
   "cell_type": "markdown",
   "id": "38aeca67-ddf9-4a16-9530-cad06bd8422a",
   "metadata": {},
   "source": [
    "##### Результат:"
   ]
  },
  {
   "cell_type": "code",
   "execution_count": 14,
   "id": "006f0de0-974f-40b5-80f2-46f0c8245ea7",
   "metadata": {},
   "outputs": [
    {
     "data": {
      "text/plain": [
       "           constr: [array([0., 0., 0.]), array([0., 0., 0., 0.])]\n",
       " constr_violation: 0.0\n",
       "              fun: 1.0\n",
       "            maxcv: 0.0\n",
       "          message: 'Optimization terminated successfully.'\n",
       "             nfev: 16966\n",
       "              nit: 12058\n",
       "          success: True\n",
       "                x: array([0., 6., 0., 0., 0., 0., 0., 2., 4., 0., 3., 0.])"
      ]
     },
     "execution_count": 14,
     "metadata": {},
     "output_type": "execute_result"
    }
   ],
   "source": [
    "res"
   ]
  },
  {
   "cell_type": "code",
   "execution_count": 15,
   "id": "c34107bb-f875-4fe3-9a5d-a161336ee9d3",
   "metadata": {},
   "outputs": [
    {
     "data": {
      "text/html": [
       "<div>\n",
       "<style scoped>\n",
       "    .dataframe tbody tr th:only-of-type {\n",
       "        vertical-align: middle;\n",
       "    }\n",
       "\n",
       "    .dataframe tbody tr th {\n",
       "        vertical-align: top;\n",
       "    }\n",
       "\n",
       "    .dataframe thead th {\n",
       "        text-align: right;\n",
       "    }\n",
       "</style>\n",
       "<table border=\"1\" class=\"dataframe\">\n",
       "  <thead>\n",
       "    <tr style=\"text-align: right;\">\n",
       "      <th></th>\n",
       "      <th>room</th>\n",
       "      <th>capacity</th>\n",
       "      <th>department</th>\n",
       "      <th>size</th>\n",
       "      <th>count</th>\n",
       "    </tr>\n",
       "  </thead>\n",
       "  <tbody>\n",
       "    <tr>\n",
       "      <th>1</th>\n",
       "      <td>1</td>\n",
       "      <td>6</td>\n",
       "      <td>B</td>\n",
       "      <td>6</td>\n",
       "      <td>6</td>\n",
       "    </tr>\n",
       "    <tr>\n",
       "      <th>7</th>\n",
       "      <td>2</td>\n",
       "      <td>3</td>\n",
       "      <td>D</td>\n",
       "      <td>2</td>\n",
       "      <td>2</td>\n",
       "    </tr>\n",
       "    <tr>\n",
       "      <th>8</th>\n",
       "      <td>3</td>\n",
       "      <td>7</td>\n",
       "      <td>A</td>\n",
       "      <td>4</td>\n",
       "      <td>4</td>\n",
       "    </tr>\n",
       "    <tr>\n",
       "      <th>10</th>\n",
       "      <td>3</td>\n",
       "      <td>7</td>\n",
       "      <td>C</td>\n",
       "      <td>3</td>\n",
       "      <td>3</td>\n",
       "    </tr>\n",
       "  </tbody>\n",
       "</table>\n",
       "</div>"
      ],
      "text/plain": [
       "    room  capacity department  size  count\n",
       "1      1         6          B     6      6\n",
       "7      2         3          D     2      2\n",
       "8      3         7          A     4      4\n",
       "10     3         7          C     3      3"
      ]
     },
     "execution_count": 15,
     "metadata": {},
     "output_type": "execute_result"
    }
   ],
   "source": [
    "optimized_distribution_exploded = initial_distribution_exploded.copy()\n",
    "optimized_distribution_exploded['count'] = res.x.astype(int)\n",
    "optimized_distribution = optimized_distribution_exploded[optimized_distribution_exploded['count'] != 0]\n",
    "optimized_distribution"
   ]
  },
  {
   "cell_type": "code",
   "execution_count": null,
   "id": "125c28a0-37da-4aae-9e2a-e2132be2e897",
   "metadata": {},
   "outputs": [],
   "source": []
  }
 ],
 "metadata": {
  "kernelspec": {
   "display_name": "Python 3 (ipykernel)",
   "language": "python",
   "name": "python3"
  },
  "language_info": {
   "codemirror_mode": {
    "name": "ipython",
    "version": 3
   },
   "file_extension": ".py",
   "mimetype": "text/x-python",
   "name": "python",
   "nbconvert_exporter": "python",
   "pygments_lexer": "ipython3",
   "version": "3.9.13"
  }
 },
 "nbformat": 4,
 "nbformat_minor": 5
}
